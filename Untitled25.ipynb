{
  "nbformat": 4,
  "nbformat_minor": 0,
  "metadata": {
    "colab": {
      "provenance": [],
      "authorship_tag": "ABX9TyNHkzIamqjCAoVtgMQQxtXw",
      "include_colab_link": true
    },
    "kernelspec": {
      "name": "python3",
      "display_name": "Python 3"
    },
    "language_info": {
      "name": "python"
    }
  },
  "cells": [
    {
      "cell_type": "markdown",
      "metadata": {
        "id": "view-in-github",
        "colab_type": "text"
      },
      "source": [
        "<a href=\"https://colab.research.google.com/github/sanjay151102/COD-Lab/blob/main/Untitled25.ipynb\" target=\"_parent\"><img src=\"https://colab.research.google.com/assets/colab-badge.svg\" alt=\"Open In Colab\"/></a>"
      ]
    },
    {
      "cell_type": "code",
      "source": [
        "pip  install nltk"
      ],
      "metadata": {
        "colab": {
          "base_uri": "https://localhost:8080/"
        },
        "id": "JIH8KmgwcwEe",
        "outputId": "b4a58b7e-e63c-466f-b7b6-f600e064a3e8"
      },
      "execution_count": 19,
      "outputs": [
        {
          "output_type": "stream",
          "name": "stdout",
          "text": [
            "Looking in indexes: https://pypi.org/simple, https://us-python.pkg.dev/colab-wheels/public/simple/\n",
            "Requirement already satisfied: nltk in /usr/local/lib/python3.7/dist-packages (3.7)\n",
            "Requirement already satisfied: click in /usr/local/lib/python3.7/dist-packages (from nltk) (7.1.2)\n",
            "Requirement already satisfied: tqdm in /usr/local/lib/python3.7/dist-packages (from nltk) (4.64.0)\n",
            "Requirement already satisfied: joblib in /usr/local/lib/python3.7/dist-packages (from nltk) (1.1.0)\n",
            "Requirement already satisfied: regex>=2021.8.3 in /usr/local/lib/python3.7/dist-packages (from nltk) (2022.6.2)\n"
          ]
        }
      ]
    },
    {
      "cell_type": "code",
      "source": [
        "pip install language_tool_python"
      ],
      "metadata": {
        "colab": {
          "base_uri": "https://localhost:8080/"
        },
        "id": "Hec14_J2dyXU",
        "outputId": "56af7faf-4ae4-4477-9253-73c253a4f3b0"
      },
      "execution_count": 7,
      "outputs": [
        {
          "output_type": "stream",
          "name": "stdout",
          "text": [
            "Looking in indexes: https://pypi.org/simple, https://us-python.pkg.dev/colab-wheels/public/simple/\n",
            "Collecting language_tool_python\n",
            "  Downloading language_tool_python-2.7.1-py3-none-any.whl (34 kB)\n",
            "Requirement already satisfied: tqdm in /usr/local/lib/python3.7/dist-packages (from language_tool_python) (4.64.0)\n",
            "Requirement already satisfied: requests in /usr/local/lib/python3.7/dist-packages (from language_tool_python) (2.23.0)\n",
            "Requirement already satisfied: chardet<4,>=3.0.2 in /usr/local/lib/python3.7/dist-packages (from requests->language_tool_python) (3.0.4)\n",
            "Requirement already satisfied: idna<3,>=2.5 in /usr/local/lib/python3.7/dist-packages (from requests->language_tool_python) (2.10)\n",
            "Requirement already satisfied: certifi>=2017.4.17 in /usr/local/lib/python3.7/dist-packages (from requests->language_tool_python) (2022.6.15)\n",
            "Requirement already satisfied: urllib3!=1.25.0,!=1.25.1,<1.26,>=1.21.1 in /usr/local/lib/python3.7/dist-packages (from requests->language_tool_python) (1.24.3)\n",
            "Installing collected packages: language-tool-python\n",
            "Successfully installed language-tool-python-2.7.1\n"
          ]
        }
      ]
    },
    {
      "cell_type": "code",
      "source": [
        "pip install textblob"
      ],
      "metadata": {
        "colab": {
          "base_uri": "https://localhost:8080/"
        },
        "id": "qj2qENNjmVjM",
        "outputId": "0e8c0271-501e-4480-fbe1-eced503836da"
      },
      "execution_count": 17,
      "outputs": [
        {
          "output_type": "stream",
          "name": "stdout",
          "text": [
            "Looking in indexes: https://pypi.org/simple, https://us-python.pkg.dev/colab-wheels/public/simple/\n",
            "Requirement already satisfied: textblob in /usr/local/lib/python3.7/dist-packages (0.15.3)\n",
            "Requirement already satisfied: nltk>=3.1 in /usr/local/lib/python3.7/dist-packages (from textblob) (3.7)\n",
            "Requirement already satisfied: joblib in /usr/local/lib/python3.7/dist-packages (from nltk>=3.1->textblob) (1.1.0)\n",
            "Requirement already satisfied: regex>=2021.8.3 in /usr/local/lib/python3.7/dist-packages (from nltk>=3.1->textblob) (2022.6.2)\n",
            "Requirement already satisfied: click in /usr/local/lib/python3.7/dist-packages (from nltk>=3.1->textblob) (7.1.2)\n",
            "Requirement already satisfied: tqdm in /usr/local/lib/python3.7/dist-packages (from nltk>=3.1->textblob) (4.64.0)\n"
          ]
        }
      ]
    },
    {
      "cell_type": "code",
      "execution_count": 21,
      "metadata": {
        "id": "VcgucB-3JhRH"
      },
      "outputs": [],
      "source": [
        "\n",
        "from textblob import TextBlob\n",
        "\n"
      ]
    },
    {
      "cell_type": "code",
      "source": [
        "text = '''People have travelled through and inhabited the Toronto area, located on a broad sloping plateau interspersed with rivers, \n",
        "      deep ravines, and urban forest, for more than 10,000 years.[18] After the broadly disputed Torronto Purchase, when the \n",
        "      Mississauga surrendered the area to the British Crown,[19] the British established the town of York in 1793 and later \n",
        "      designeted it as the capital of Upper Canada.[20] During the War of 1812, the town was the site of the Battle of York and \n",
        "      suffered heavy damage by American troops.[21] York was renamed and incorporated in 1834 as the city of Toronto. It was \n",
        "      designated as the capitel of the province of Ontario in 1867 during Canadian Confederation.[22] The city proper has since \n",
        "      expanded past its original borders through both annexation and amalgamation to its current area of 630.2 km2 (243.3 sq mi). \n",
        "      The diverse population of Tornto reflects its current and historical role as an important destination for immigrants to Canada.\n",
        "      [23][24] More than 50 percent of residants belong to a visible minority population group,[25] and over 200 distinct ethnic \n",
        "      origins are represented among its inhabitats.[26] While the majority of Torontonians speak English as their premary language, \n",
        "      over 160 languages are spoken in the city.[27] Toront is a prominent center for music,[28] theatre,[29] motion picture \n",
        "      production,[30] and tilevision production,[31] and is home to the headquarters of Canada's major notional broadcast networks \n",
        "      and media outlets.[32] Its varied caltural institutions,[33] which include numerous museums and gelleries, festivals and \n",
        "      public events, entertaiment districts, national historic sites, and sports actevities,[34] attract over 43 million touriets \n",
        "      each year.[35][36] Torunto is known for its many skysvrapers and high-rise buildinds,[37] in particalar the tallest \n",
        "      free-standind structure in the Western Hemisphere, the CN Tower.'''\n"
      ],
      "metadata": {
        "id": "jfVPknbeh8gg"
      },
      "execution_count": 5,
      "outputs": []
    },
    {
      "cell_type": "code",
      "source": [
        "import language_tool_python\n",
        "tool = language_tool_python.LanguageTool('en-US')"
      ],
      "metadata": {
        "colab": {
          "base_uri": "https://localhost:8080/"
        },
        "id": "elkDdoqwGwzg",
        "outputId": "b2887083-5dd9-4e9d-9177-68ad6aec02ff"
      },
      "execution_count": 8,
      "outputs": [
        {
          "output_type": "stream",
          "name": "stderr",
          "text": [
            "Downloading LanguageTool 5.7: 100%|██████████| 225M/225M [00:04<00:00, 54.3MB/s]\n",
            "INFO:language_tool_python.download_lt:Unzipping /tmp/tmpm358sk0e.zip to /root/.cache/language_tool_python.\n",
            "INFO:language_tool_python.download_lt:Downloaded https://www.languagetool.org/download/LanguageTool-5.7.zip to /root/.cache/language_tool_python.\n"
          ]
        }
      ]
    },
    {
      "cell_type": "code",
      "source": [
        "text = tool.correct(text)"
      ],
      "metadata": {
        "id": "ojY6D84MG9s_"
      },
      "execution_count": 9,
      "outputs": []
    },
    {
      "cell_type": "code",
      "source": [
        "text.split()"
      ],
      "metadata": {
        "colab": {
          "base_uri": "https://localhost:8080/"
        },
        "id": "8OUVHW-kesuP",
        "outputId": "423ccb91-c05f-4d47-83f9-582f55a63779"
      },
      "execution_count": 25,
      "outputs": [
        {
          "output_type": "execute_result",
          "data": {
            "text/plain": [
              "['People',\n",
              " 'have',\n",
              " 'travelled',\n",
              " 'through',\n",
              " 'and',\n",
              " 'inhabited',\n",
              " 'the',\n",
              " 'Toronto',\n",
              " 'area,',\n",
              " 'located',\n",
              " 'on',\n",
              " 'a',\n",
              " 'broad',\n",
              " 'sloping',\n",
              " 'plateau',\n",
              " 'interspersed',\n",
              " 'with',\n",
              " 'rivers,',\n",
              " 'deep',\n",
              " 'ravines,',\n",
              " 'and',\n",
              " 'urban',\n",
              " 'forest,',\n",
              " 'for',\n",
              " 'more',\n",
              " 'than',\n",
              " '10,000',\n",
              " 'years.[18]',\n",
              " 'After',\n",
              " 'the',\n",
              " 'broadly',\n",
              " 'disputed',\n",
              " 'Toronto',\n",
              " 'Purchase,',\n",
              " 'when',\n",
              " 'the',\n",
              " 'Mississauga',\n",
              " 'surrendered',\n",
              " 'the',\n",
              " 'area',\n",
              " 'to',\n",
              " 'the',\n",
              " 'British',\n",
              " 'Crown,',\n",
              " '[19]',\n",
              " 'the',\n",
              " 'British',\n",
              " 'established',\n",
              " 'the',\n",
              " 'town',\n",
              " 'of',\n",
              " 'York',\n",
              " 'in',\n",
              " '1793',\n",
              " 'and',\n",
              " 'later',\n",
              " 'designated',\n",
              " 'it',\n",
              " 'as',\n",
              " 'the',\n",
              " 'capital',\n",
              " 'of',\n",
              " 'Upper',\n",
              " 'Canada.[20]',\n",
              " 'During',\n",
              " 'the',\n",
              " 'War',\n",
              " 'of',\n",
              " '1812,',\n",
              " 'the',\n",
              " 'town',\n",
              " 'was',\n",
              " 'the',\n",
              " 'site',\n",
              " 'of',\n",
              " 'the',\n",
              " 'Battle',\n",
              " 'of',\n",
              " 'York',\n",
              " 'and',\n",
              " 'suffered',\n",
              " 'heavy',\n",
              " 'damage',\n",
              " 'by',\n",
              " 'American',\n",
              " 'troops.[21]',\n",
              " 'York',\n",
              " 'was',\n",
              " 'renamed',\n",
              " 'and',\n",
              " 'incorporated',\n",
              " 'in',\n",
              " '1834',\n",
              " 'as',\n",
              " 'the',\n",
              " 'city',\n",
              " 'of',\n",
              " 'Toronto.',\n",
              " 'It',\n",
              " 'was',\n",
              " 'designated',\n",
              " 'as',\n",
              " 'the',\n",
              " 'capital',\n",
              " 'of',\n",
              " 'the',\n",
              " 'province',\n",
              " 'of',\n",
              " 'Ontario',\n",
              " 'in',\n",
              " '1867',\n",
              " 'during',\n",
              " 'Canadian',\n",
              " 'Confederation.[22]',\n",
              " 'The',\n",
              " 'city',\n",
              " 'proper',\n",
              " 'has',\n",
              " 'since',\n",
              " 'expanded',\n",
              " 'past',\n",
              " 'its',\n",
              " 'original',\n",
              " 'borders',\n",
              " 'through',\n",
              " 'both',\n",
              " 'annexation',\n",
              " 'and',\n",
              " 'amalgamation',\n",
              " 'to',\n",
              " 'its',\n",
              " 'current',\n",
              " 'area',\n",
              " 'of',\n",
              " '630.2',\n",
              " 'km2',\n",
              " '(243.3',\n",
              " 'sq',\n",
              " 'mi).',\n",
              " 'The',\n",
              " 'diverse',\n",
              " 'population',\n",
              " 'of',\n",
              " 'Toronto',\n",
              " 'reflects',\n",
              " 'its',\n",
              " 'current',\n",
              " 'and',\n",
              " 'historical',\n",
              " 'role',\n",
              " 'as',\n",
              " 'an',\n",
              " 'important',\n",
              " 'destination',\n",
              " 'for',\n",
              " 'immigrants',\n",
              " 'to',\n",
              " 'Canada.',\n",
              " '[23][24]',\n",
              " 'More',\n",
              " 'than',\n",
              " '50',\n",
              " 'percent',\n",
              " 'of',\n",
              " 'residents',\n",
              " 'belong',\n",
              " 'to',\n",
              " 'a',\n",
              " 'visible',\n",
              " 'minority',\n",
              " 'population',\n",
              " 'group,',\n",
              " '[25]',\n",
              " 'and',\n",
              " 'over',\n",
              " '200',\n",
              " 'distinct',\n",
              " 'ethnic',\n",
              " 'origins',\n",
              " 'are',\n",
              " 'represented',\n",
              " 'among',\n",
              " 'its',\n",
              " 'inhabitants.[26]',\n",
              " 'While',\n",
              " 'the',\n",
              " 'majority',\n",
              " 'of',\n",
              " 'Torontonians',\n",
              " 'speak',\n",
              " 'English',\n",
              " 'as',\n",
              " 'their',\n",
              " 'primary',\n",
              " 'language,',\n",
              " 'over',\n",
              " '160',\n",
              " 'languages',\n",
              " 'are',\n",
              " 'spoken',\n",
              " 'in',\n",
              " 'the',\n",
              " 'city.[27]',\n",
              " 'Toronto',\n",
              " 'is',\n",
              " 'a',\n",
              " 'prominent',\n",
              " 'center',\n",
              " 'for',\n",
              " 'music,',\n",
              " '[28]',\n",
              " 'theater,',\n",
              " '[29]',\n",
              " 'motion',\n",
              " 'picture',\n",
              " 'production,',\n",
              " '[30]',\n",
              " 'and',\n",
              " 'television',\n",
              " 'production,',\n",
              " '[31]',\n",
              " 'and',\n",
              " 'is',\n",
              " 'home',\n",
              " 'to',\n",
              " 'the',\n",
              " 'headquarters',\n",
              " 'of',\n",
              " \"Canada's\",\n",
              " 'major',\n",
              " 'notional',\n",
              " 'broadcast',\n",
              " 'networks',\n",
              " 'and',\n",
              " 'media',\n",
              " 'outlets.[32]',\n",
              " 'Its',\n",
              " 'varied',\n",
              " 'cultural',\n",
              " 'institutions,',\n",
              " '[33]',\n",
              " 'which',\n",
              " 'include',\n",
              " 'numerous',\n",
              " 'museums',\n",
              " 'and',\n",
              " 'galleries,',\n",
              " 'festivals',\n",
              " 'and',\n",
              " 'public',\n",
              " 'events,',\n",
              " 'entertainment',\n",
              " 'districts,',\n",
              " 'national',\n",
              " 'historic',\n",
              " 'sites,',\n",
              " 'and',\n",
              " 'sports',\n",
              " 'activities,',\n",
              " '[34]',\n",
              " 'attract',\n",
              " 'over',\n",
              " '43',\n",
              " 'million',\n",
              " 'tourists',\n",
              " 'each',\n",
              " 'year.[35][36]',\n",
              " 'Toronto',\n",
              " 'is',\n",
              " 'known',\n",
              " 'for',\n",
              " 'its',\n",
              " 'many',\n",
              " 'skyscrapers',\n",
              " 'and',\n",
              " 'high-rise',\n",
              " 'buildings,',\n",
              " '[37]',\n",
              " 'in',\n",
              " 'particular',\n",
              " 'the',\n",
              " 'tallest',\n",
              " 'freestanding',\n",
              " 'structure',\n",
              " 'in',\n",
              " 'the',\n",
              " 'Western',\n",
              " 'Hemisphere,',\n",
              " 'the',\n",
              " 'CN',\n",
              " 'Tower.']"
            ]
          },
          "metadata": {},
          "execution_count": 25
        }
      ]
    }
  ]
}