{
  "nbformat": 4,
  "nbformat_minor": 0,
  "metadata": {
    "colab": {
      "provenance": [],
      "authorship_tag": "ABX9TyPwHmbZBR+H3LkvisL03ASp",
      "include_colab_link": true
    },
    "kernelspec": {
      "name": "python3",
      "display_name": "Python 3"
    },
    "language_info": {
      "name": "python"
    }
  },
  "cells": [
    {
      "cell_type": "markdown",
      "metadata": {
        "id": "view-in-github",
        "colab_type": "text"
      },
      "source": [
        "<a href=\"https://colab.research.google.com/github/sanjay151102/COD-Lab/blob/main/Untitled25.ipynb\" target=\"_parent\"><img src=\"https://colab.research.google.com/assets/colab-badge.svg\" alt=\"Open In Colab\"/></a>"
      ]
    },
    {
      "cell_type": "code",
      "source": [
        "pip install language_tool_python"
      ],
      "metadata": {
        "colab": {
          "base_uri": "https://localhost:8080/"
        },
        "id": "Hec14_J2dyXU",
        "outputId": "6cba8175-5e47-4906-b441-09fbd8b1af3c"
      },
      "execution_count": null,
      "outputs": [
        {
          "output_type": "stream",
          "name": "stdout",
          "text": [
            "Looking in indexes: https://pypi.org/simple, https://us-python.pkg.dev/colab-wheels/public/simple/\n",
            "Collecting language_tool_python\n",
            "  Downloading language_tool_python-2.7.1-py3-none-any.whl (34 kB)\n",
            "Requirement already satisfied: requests in /usr/local/lib/python3.7/dist-packages (from language_tool_python) (2.28.1)\n",
            "Requirement already satisfied: tqdm in /usr/local/lib/python3.7/dist-packages (from language_tool_python) (4.64.0)\n",
            "Requirement already satisfied: urllib3<1.27,>=1.21.1 in /usr/local/lib/python3.7/dist-packages (from requests->language_tool_python) (1.24.3)\n",
            "Requirement already satisfied: certifi>=2017.4.17 in /usr/local/lib/python3.7/dist-packages (from requests->language_tool_python) (2022.6.15)\n",
            "Requirement already satisfied: idna<4,>=2.5 in /usr/local/lib/python3.7/dist-packages (from requests->language_tool_python) (2.10)\n",
            "Requirement already satisfied: charset-normalizer<3,>=2 in /usr/local/lib/python3.7/dist-packages (from requests->language_tool_python) (2.1.1)\n",
            "Installing collected packages: language-tool-python\n",
            "Successfully installed language-tool-python-2.7.1\n"
          ]
        }
      ]
    },
    {
      "cell_type": "code",
      "source": [
        "pip install textblob"
      ],
      "metadata": {
        "colab": {
          "base_uri": "https://localhost:8080/"
        },
        "id": "qj2qENNjmVjM",
        "outputId": "2ed91313-1295-49c1-ff03-49b494cfc356"
      },
      "execution_count": null,
      "outputs": [
        {
          "output_type": "stream",
          "name": "stdout",
          "text": [
            "Looking in indexes: https://pypi.org/simple, https://us-python.pkg.dev/colab-wheels/public/simple/\n",
            "Requirement already satisfied: textblob in /usr/local/lib/python3.7/dist-packages (0.15.3)\n",
            "Requirement already satisfied: nltk>=3.1 in /usr/local/lib/python3.7/dist-packages (from textblob) (3.7)\n",
            "Requirement already satisfied: joblib in /usr/local/lib/python3.7/dist-packages (from nltk>=3.1->textblob) (1.1.0)\n",
            "Requirement already satisfied: tqdm in /usr/local/lib/python3.7/dist-packages (from nltk>=3.1->textblob) (4.64.0)\n",
            "Requirement already satisfied: click in /usr/local/lib/python3.7/dist-packages (from nltk>=3.1->textblob) (7.1.2)\n",
            "Requirement already satisfied: regex>=2021.8.3 in /usr/local/lib/python3.7/dist-packages (from nltk>=3.1->textblob) (2022.6.2)\n"
          ]
        }
      ]
    },
    {
      "cell_type": "code",
      "execution_count": null,
      "metadata": {
        "id": "VcgucB-3JhRH"
      },
      "outputs": [],
      "source": [
        "\n",
        "from textblob import TextBlob\n",
        "import jamspell\n",
        "import gingerit"
      ]
    },
    {
      "cell_type": "code",
      "source": [
        "text = '''People have travelled through and inhabited the Toronto area, located on a broad sloping plateau interspersed with rivers, \n",
        "      deep ravines, and urban forest, for more than 10,000 years.[18] After the broadly disputed Torronto Purchase, when the \n",
        "      Mississauga surrendered the area to the British Crown,[19] the British established the town of York in 1793 and later \n",
        "      designeted it as the capital of Upper Canada.[20] During the War of 1812, the town was the site of the Battle of York and \n",
        "      suffered heavy damage by American troops.[21] York was renamed and incorporated in 1834 as the city of Toronto. It was \n",
        "      designated as the capitel of the province of Ontario in 1867 during Canadian Confederation.[22] The city proper has since \n",
        "      expanded past its original borders through both annexation and amalgamation to its current area of 630.2 km2 (243.3 sq mi). \n",
        "      The diverse population of Tornto reflects its current and historical role as an important destination for immigrants to Canada.\n",
        "      [23][24] More than 50 percent of residants belong to a visible minority population group,[25] and over 200 distinct ethnic \n",
        "      origins are represented among its inhabitats.[26] While the majority of Torontonians speak English as their premary language, \n",
        "      over 160 languages are spoken in the city.[27] Toront is a prominent center for music,[28] theatre,[29] motion picture \n",
        "      production,[30] and tilevision production,[31] and is home to the headquarters of Canada's major notional broadcast networks \n",
        "      and media outlets.[32] Its varied caltural institutions,[33] which include numerous museums and gelleries, festivals and \n",
        "      public events, entertaiment districts, national historic sites, and sports actevities,[34] attract over 43 million touriets \n",
        "      each year.[35][36] Torunto is known for its many skysvrapers and high-rise buildinds,[37] in particalar the tallest \n",
        "      free-standind structure in the Western Hemisphere, the CN Tower.'''\n"
      ],
      "metadata": {
        "id": "jfVPknbeh8gg"
      },
      "execution_count": null,
      "outputs": []
    },
    {
      "cell_type": "code",
      "source": [
        "import language_tool_python\n",
        "tool = language_tool_python.LanguageTool('en-US')"
      ],
      "metadata": {
        "colab": {
          "base_uri": "https://localhost:8080/"
        },
        "id": "elkDdoqwGwzg",
        "outputId": "61abbb5d-3444-4647-fd34-1731ca17ce39"
      },
      "execution_count": null,
      "outputs": [
        {
          "output_type": "stream",
          "name": "stderr",
          "text": [
            "Downloading LanguageTool 5.7: 100%|██████████| 225M/225M [00:07<00:00, 31.7MB/s]\n",
            "INFO:language_tool_python.download_lt:Unzipping /tmp/tmpfsue2a2e.zip to /root/.cache/language_tool_python.\n",
            "INFO:language_tool_python.download_lt:Downloaded https://www.languagetool.org/download/LanguageTool-5.7.zip to /root/.cache/language_tool_python.\n"
          ]
        }
      ]
    },
    {
      "cell_type": "code",
      "source": [
        "tool.correct(text)"
      ],
      "metadata": {
        "colab": {
          "base_uri": "https://localhost:8080/",
          "height": 242
        },
        "id": "ojY6D84MG9s_",
        "outputId": "f60d32e6-abf3-4c1f-d598-a85c37b229ff"
      },
      "execution_count": null,
      "outputs": [
        {
          "output_type": "execute_result",
          "data": {
            "text/plain": [
              "\"People have travelled through and inhabited the Toronto area, located on a broad sloping plateau interspersed with rivers, \\n      deep ravines, and urban forest, for more than 10,000 years.[18] After the broadly disputed Toronto Purchase, when the \\n      Mississauga surrendered the area to the British Crown, [19] the British established the town of York in 1793 and later \\n      designated it as the capital of Upper Canada.[20] During the War of 1812, the town was the site of the Battle of York and \\n      suffered heavy damage by American troops.[21] York was renamed and incorporated in 1834 as the city of Toronto. It was \\n      designated as the capital of the province of Ontario in 1867 during Canadian Confederation.[22] The city proper has since \\n      expanded past its original borders through both annexation and amalgamation to its current area of 630.2 km2 (243.3 sq mi). \\n      The diverse population of Toronto reflects its current and historical role as an important destination for immigrants to Canada.\\n [23][24] More than 50 percent of residents belong to a visible minority population group, [25] and over 200 distinct ethnic \\n      origins are represented among its inhabitants.[26] While the majority of Torontonians speak English as their primary language, \\n      over 160 languages are spoken in the city.[27] Toronto is a prominent center for music, [28] theater, [29] motion picture \\n      production, [30] and television production, [31] and is home to the headquarters of Canada's major notional broadcast networks \\n      and media outlets.[32] Its varied cultural institutions, [33] which include numerous museums and galleries, festivals and \\n      public events, entertainment districts, national historic sites, and sports activities, [34] attract over 43 million tourists \\n      each year.[35][36] Toronto is known for its many skyscrapers and high-rise buildings, [37] in particular the tallest \\n      freestanding structure in the Western Hemisphere, the CN Tower.\""
            ],
            "application/vnd.google.colaboratory.intrinsic+json": {
              "type": "string"
            }
          },
          "metadata": {},
          "execution_count": 36
        }
      ]
    },
    {
      "cell_type": "code",
      "source": [],
      "metadata": {
        "id": "cWxIe3eDgTAz"
      },
      "execution_count": null,
      "outputs": []
    }
  ]
}