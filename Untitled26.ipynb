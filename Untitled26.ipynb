{
  "cells": [
    {
      "cell_type": "markdown",
      "metadata": {
        "id": "view-in-github",
        "colab_type": "text"
      },
      "source": [
        "<a href=\"https://colab.research.google.com/github/sanjay151102/COD-Lab/blob/main/Untitled26.ipynb\" target=\"_parent\"><img src=\"https://colab.research.google.com/assets/colab-badge.svg\" alt=\"Open In Colab\"/></a>"
      ]
    },
    {
      "cell_type": "code",
      "execution_count": null,
      "metadata": {
        "id": "QCf1qUFPRaCv"
      },
      "outputs": [],
      "source": [
        "import nltk\n",
        "from nltk.corpus import stopwords\n",
        "stopwords_en = stopwords.words(\"english\")\n",
        "def preprocessing(raw):\n",
        "    wordlist = nltk.word_tokenize(raw)\n",
        "    text = [w.lower () for w in wordlist if w not in stopwords_en]\n",
        "    return text\n",
        "f1 = open('3gables.txt','r', encoding = 'utf8')\n",
        "text1 = preprocessing(f1.read ())\n",
        "\n",
        "f2 = open('3lpigs.txt', 'r', encoding=\"utf8\")\n",
        "text2 = preprocessing(f2.read ())"
      ]
    },
    {
      "cell_type": "code",
      "source": [
        "from nltk.probability import FreqDist"
      ],
      "metadata": {
        "id": "HViQrmIY94p2"
      },
      "execution_count": null,
      "outputs": []
    },
    {
      "cell_type": "code",
      "execution_count": null,
      "metadata": {
        "id": "-GaBxGvRZ7TR"
      },
      "outputs": [],
      "source": [
        "\n",
        "word_set = set(text1).union(set(text2) )\n",
        "freqd_text1 = FreqDist(text1)\n",
        "text1_count_dict = dict.fromkeys (word_set, 0)\n",
        "for word in text1:\n",
        "    text1_count_dict[word] = freqd_text1[word]\n",
        "freqd_text2 = FreqDist(text2)\n",
        "text2_count_dict = dict.fromkeys(word_set, 0)\n",
        "for word in text2:\n",
        "    text2_count_dict[word] = freqd_text2[word]"
      ]
    },
    {
      "cell_type": "code",
      "source": [
        "freqd_text1 = FreqDist(text1)\n",
        "text1_length = len (text1)\n",
        "text1_tf_dict = dict.fromkeys(word_set, 0)\n",
        "for word in text1:\n",
        "    text1_tf_dict[word] = freqd_text1[word]/text1_length\n",
        "fregd_text2 = FreqDist(text2)\n",
        "text2_length = len (text2)\n",
        "text2_tf_dict = dict.fromkeys(word_set, 0)\n",
        "for word in text2:\n",
        "    text2_tf_dict[word] = fregd_text2[word]/text2_length"
      ],
      "metadata": {
        "id": "lHelXH_JAd3x"
      },
      "execution_count": null,
      "outputs": []
    },
    {
      "cell_type": "code",
      "source": [
        "text12_idf_dict = dict.fromkeys(word_set, 0)\n",
        "text12_length = 2 \n",
        "for word in text12_idf_dict.keys():\n",
        "    if word in text1:\n",
        "       text12_idf_dict[word] += 1\n",
        "    if word in text2:\n",
        "       text12_idf_dict[word] += 1\n",
        "import math\n",
        "for word, val in text12_idf_dict.items():\n",
        "    text12_idf_dict[word] = 1 + math.log(text12_length/ (float (val)))"
      ],
      "metadata": {
        "id": "fICWEWSiIX7d"
      },
      "execution_count": null,
      "outputs": []
    },
    {
      "cell_type": "code",
      "source": [
        "text1_tfidf_dict = dict.fromkeys(word_set, 0)\n",
        "for word in text1:\n",
        "    text1_tfidf_dict[word] = (text1_tf_dict[word]) * (text12_idf_dict[word])\n",
        "text2_tfidf_dict = dict.fromkeys(word_set, 0)\n",
        "for word in text2:\n",
        "    text2_tfidf_dict[word] = (text2_tf_dict[word]) * (text12_idf_dict[word])"
      ],
      "metadata": {
        "id": "xeVP8AYRJ0ke"
      },
      "execution_count": null,
      "outputs": []
    },
    {
      "cell_type": "code",
      "source": [
        "v1 = list(text1_tfidf_dict.values () )\n",
        "v2 = list (text2_tfidf_dict.values () )\n",
        "similarity = 1 - nltk.cluster.cosine_distance (v1, v2)\n",
        "print(\"Similarity Index:{:4.2} %\".format(similarity*100))"
      ],
      "metadata": {
        "colab": {
          "base_uri": "https://localhost:8080/"
        },
        "id": "LQVUHv5qNC26",
        "outputId": "f4c3d61b-d741-410a-c2bb-83d5ca92e15d"
      },
      "execution_count": null,
      "outputs": [
        {
          "output_type": "stream",
          "name": "stdout",
          "text": [
            "Similarity Index:7.7e+01 %\n"
          ]
        }
      ]
    }
  ],
  "metadata": {
    "colab": {
      "provenance": [],
      "authorship_tag": "ABX9TyPR2PCVbLtR4EPuMStv0hGa",
      "include_colab_link": true
    },
    "kernelspec": {
      "display_name": "Python 3",
      "name": "python3"
    },
    "language_info": {
      "name": "python"
    }
  },
  "nbformat": 4,
  "nbformat_minor": 0
}